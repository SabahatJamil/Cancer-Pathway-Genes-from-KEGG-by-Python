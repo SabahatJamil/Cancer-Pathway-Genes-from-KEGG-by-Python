{
  "nbformat": 4,
  "nbformat_minor": 0,
  "metadata": {
    "colab": {
      "provenance": [],
      "authorship_tag": "ABX9TyM6m2ArXK4XEE3oBKfOoQ6D",
      "include_colab_link": true
    },
    "kernelspec": {
      "name": "python3",
      "display_name": "Python 3"
    },
    "language_info": {
      "name": "python"
    }
  },
  "cells": [
    {
      "cell_type": "markdown",
      "metadata": {
        "id": "view-in-github",
        "colab_type": "text"
      },
      "source": [
        "<a href=\"https://colab.research.google.com/github/SabahatJamil/Cancer-Pathway-Genes-from-KEGG-by-Python/blob/main/gene_pathway_list.ipynb\" target=\"_parent\"><img src=\"https://colab.research.google.com/assets/colab-badge.svg\" alt=\"Open In Colab\"/></a>"
      ]
    },
    {
      "cell_type": "code",
      "execution_count": null,
      "metadata": {
        "colab": {
          "base_uri": "https://localhost:8080/"
        },
        "id": "zjQlxJrp9eJQ",
        "outputId": "e3034ee6-d6c3-4fde-d133-578d6db98846"
      },
      "outputs": [
        {
          "output_type": "stream",
          "name": "stdout",
          "text": [
            "Collecting biopython\n",
            "  Downloading biopython-1.81-cp310-cp310-manylinux_2_17_x86_64.manylinux2014_x86_64.whl (3.1 MB)\n",
            "\u001b[?25l     \u001b[90m━━━━━━━━━━━━━━━━━━━━━━━━━━━━━━━━━━━━━━━━\u001b[0m \u001b[32m0.0/3.1 MB\u001b[0m \u001b[31m?\u001b[0m eta \u001b[36m-:--:--\u001b[0m\r\u001b[2K     \u001b[91m━\u001b[0m\u001b[91m╸\u001b[0m\u001b[90m━━━━━━━━━━━━━━━━━━━━━━━━━━━━━━━━━━━━━━\u001b[0m \u001b[32m0.1/3.1 MB\u001b[0m \u001b[31m3.4 MB/s\u001b[0m eta \u001b[36m0:00:01\u001b[0m\r\u001b[2K     \u001b[91m━━━━━━━━━━━━━\u001b[0m\u001b[91m╸\u001b[0m\u001b[90m━━━━━━━━━━━━━━━━━━━━━━━━━━\u001b[0m \u001b[32m1.0/3.1 MB\u001b[0m \u001b[31m15.1 MB/s\u001b[0m eta \u001b[36m0:00:01\u001b[0m\r\u001b[2K     \u001b[91m━━━━━━━━━━━━━━━━━━━━━━━━━━━━━━━━━━━━━━━\u001b[0m\u001b[91m╸\u001b[0m \u001b[32m3.1/3.1 MB\u001b[0m \u001b[31m34.6 MB/s\u001b[0m eta \u001b[36m0:00:01\u001b[0m\r\u001b[2K     \u001b[90m━━━━━━━━━━━━━━━━━━━━━━━━━━━━━━━━━━━━━━━━\u001b[0m \u001b[32m3.1/3.1 MB\u001b[0m \u001b[31m28.1 MB/s\u001b[0m eta \u001b[36m0:00:00\u001b[0m\n",
            "\u001b[?25hRequirement already satisfied: numpy in /usr/local/lib/python3.10/dist-packages (from biopython) (1.23.5)\n",
            "Installing collected packages: biopython\n",
            "Successfully installed biopython-1.81\n"
          ]
        }
      ],
      "source": [
        "pip install biopython"
      ]
    },
    {
      "cell_type": "code",
      "source": [
        "from Bio.KEGG import REST\n",
        "\n",
        "hps = REST.kegg_list(\"pathway\", \"hsa\").read()\n",
        "hps = hps.split('\\n')"
      ],
      "metadata": {
        "id": "Pv2vMYPU9gMo"
      },
      "execution_count": null,
      "outputs": []
    },
    {
      "cell_type": "code",
      "source": [
        "human_cancer = []\n",
        "for paths in hps:\n",
        "  if paths.split('\\t')[0].find(\"hsa052\") != -1:\n",
        "    human_cancer.append(paths)"
      ],
      "metadata": {
        "id": "qEnCNoO69uk1"
      },
      "execution_count": null,
      "outputs": []
    },
    {
      "cell_type": "code",
      "source": [
        "from Bio.KEGG import REST"
      ],
      "metadata": {
        "id": "iMCCskduEo5Z"
      },
      "execution_count": null,
      "outputs": []
    },
    {
      "cell_type": "code",
      "source": [
        "def Ref_allz():\n",
        "  from Bio.KEGG import REST\n",
        "  human_paths = REST.kegg_list(\"pathway\", \"hsa\").read()\n",
        "  human_paths = human_paths.split('\\n')\n",
        "  human_cancer = []\n",
        "  cols = \"GENE,ORGANISM,DRUG,PATHWAY_MAP,CLASS,NAME,ENTRY,COMPOUND,DESCRIPTION,REL_PATHWAY,KO_PATHWAY,ELEMENT,DISEASE,NETWORK\".split(',')\n",
        "  for paths in human_paths:\n",
        "    if paths.split('\\t')[0].find(\"hsa052\") != -1:\n",
        "      human_cancer.append(paths)\n",
        "  return human_cancer,cols"
      ],
      "metadata": {
        "id": "gLczYZBSbMEv"
      },
      "execution_count": null,
      "outputs": []
    },
    {
      "cell_type": "code",
      "source": [
        "cancer , colz = Ref_allz()"
      ],
      "metadata": {
        "id": "BVbCGyzidX0_"
      },
      "execution_count": null,
      "outputs": []
    },
    {
      "cell_type": "code",
      "source": [
        "def ref_n_doi(cancer):\n",
        "  all_titles = []\n",
        "  all_dois = []\n",
        "  #getting Cancer pathways and splitting them on REFERENCE (keyword)\n",
        "  for cancere in cancer:\n",
        "    pz = REST.kegg_get(cancere.split('\\t')[0]).read()\n",
        "    splits = pz.split(\"REFERENCE\")[1:]\n",
        "    counterz = 0\n",
        "    k = []\n",
        "    for s in splits:\n",
        "    # splitting the lines into DOI\n",
        "      if \"DOI:\" in s:\n",
        "        k.append(counterz)\n",
        "      counterz = counterz +1\n",
        "\n",
        "    ## for getting new info\n",
        "    titles = []\n",
        "    dois = []\n",
        "\n",
        "    new_splits = splits[:k[-1]]\n",
        "    for i in new_splits:\n",
        "      temp = i.split('\\n')\n",
        "  # Finding the titles and appending the titles into all_titles\n",
        "      for j in range(len(temp)-1):\n",
        "        if \"TITLE\" in temp[j+1]:\n",
        "          titles.append(temp[j+1].split(\"TITLE\")[1])\n",
        "        elif \"DOI\" in temp[j+1]:\n",
        "          dois.append(temp[j+1].split(\"DOI\")[1])\n",
        "    for l in splits[k[-1]]:\n",
        "      l.split('\\n')[:5]\n",
        "      if \"TITLE\" in temp[j+1]:\n",
        "          titles.append(temp[j+1].split(\"TITLE\")[1])\n",
        "      elif \"DOI\" in temp[j+1]:\n",
        "          dois.append(temp[j+1].split(\"DOI\")[1])\n",
        "    all_titles.append(titles)\n",
        "    all_dois.append(dois)\n",
        "    return all_titles,all_dois"
      ],
      "metadata": {
        "id": "BKSuuEnFez0X"
      },
      "execution_count": null,
      "outputs": []
    },
    {
      "cell_type": "code",
      "source": [
        "f2 = open(\"Titles.txt\",'a')\n",
        "for i in range(len(all_titles)):\n",
        "\n",
        "  for j in range(len(all_titles[i])):\n",
        "    f2.write(all_titles[i][j])\n",
        "    f2.write(\"##\")\n",
        "f2.close()"
      ],
      "metadata": {
        "id": "YuBmYA2R4t9S"
      },
      "execution_count": null,
      "outputs": []
    },
    {
      "cell_type": "code",
      "source": [
        "f2 = open(\"DOIs.txt\",'a')\n",
        "for i in range(len(all_dois)):\n",
        "\n",
        "  for j in range(len(all_dois[i])):\n",
        "    f2.write(all_dois[i][j])\n",
        "    f2.write(\"##\")\n",
        "f2.close()"
      ],
      "metadata": {
        "id": "V2PFVeZ2GxoN"
      },
      "execution_count": null,
      "outputs": []
    },
    {
      "cell_type": "code",
      "source": [
        "def section_finder(splited,cols):\n",
        "  ind = 0\n",
        "  k = []\n",
        "  for i in splited:\n",
        "    for j in cols:\n",
        "      if j in i:\n",
        "        k.append(ind)\n",
        "        break\n",
        "    ind = ind +1\n",
        "  return k"
      ],
      "metadata": {
        "id": "lNvV-98obMH-"
      },
      "execution_count": null,
      "outputs": []
    },
    {
      "cell_type": "code",
      "source": [
        "def ref_find():\n",
        "  All_Refs = []\n",
        "  ## calling function for human cancers and columns\n",
        "  human_cancer,cols = Ref_allz()\n",
        "  ## Breaks previous part upto GENE section\n",
        "  for human_cancerz in human_cancer:\n",
        "    ## reading the pathway file for each pathway\n",
        "    pathway_file = REST.kegg_get(human_cancerz.split('\\t')[0]).read()\n",
        "    ref_all = pathway_file.split(\"REFERENCE\")[1]\n",
        "    ## splitting genes_all file into lines\n",
        "    splited = ref_all.split('\\n')\n",
        "    ## function to get next section\n",
        "    indexes = section_finder(splited,cols)\n",
        "    ## Getting only Genes\n",
        "    print(len(splited))\n",
        "    print(len(indexes))\n",
        "    refernces = splited[:indexes[0]]\n",
        "    ## Appending Genes to all genes\n",
        "    All_Refs.append(refernces)\n",
        "  return All_Refs"
      ],
      "metadata": {
        "id": "9HUTDlNIbMLN"
      },
      "execution_count": null,
      "outputs": []
    },
    {
      "cell_type": "code",
      "source": [
        "def Gene_allz():\n",
        "  from Bio.KEGG import REST\n",
        "  human_paths = REST.kegg_list(\"pathway\", \"hsa\").read()\n",
        "  human_paths = human_paths.split('\\n')\n",
        "  human_cancer = []\n",
        "  cols = \"REFERENCE,ORGANISM,DRUG,PATHWAY_MAP,CLASS,NAME,ENTRY,COMPOUND,DESCRIPTION,REL_PATHWAY,KO_PATHWAY,ELEMENT,DISEASE,NETWORK\".split(',')\n",
        "  for paths in human_paths:\n",
        "    if paths.split('\\t')[0].find(\"hsa052\") != -1:\n",
        "      human_cancer.append(paths)\n",
        "  return human_cancer,cols"
      ],
      "metadata": {
        "id": "HTEVKBYHmKxi"
      },
      "execution_count": null,
      "outputs": []
    },
    {
      "cell_type": "code",
      "source": [
        "##Gene_section =\n",
        "##splited = Gene_all.split('\\n')\n",
        "def section_finder(splited,cols):\n",
        "  ind = 0\n",
        "  k = []\n",
        "  for i in splited:\n",
        "    for j in cols:\n",
        "      if j in i:\n",
        "        k.append(ind)\n",
        "        break\n",
        "    ind = ind +1\n",
        "  return k"
      ],
      "metadata": {
        "id": "Wc7CnJR_dXF8"
      },
      "execution_count": null,
      "outputs": []
    },
    {
      "cell_type": "code",
      "source": [
        "def gene_find():\n",
        "  All_Genes = []\n",
        "  ## calling function for human cancers and columns\n",
        "  human_cancer,cols = Gene_allz()\n",
        "  ## Breaks previous part upto GENE section\n",
        "  for human_cancerz in human_cancer:\n",
        "    ## reading the pathway file for each pathway\n",
        "    pathway_file = REST.kegg_get(human_cancerz.split('\\t')[0]).read()\n",
        "    Gene_all = pathway_file.split(\"GENE\")[1]\n",
        "    ## splitting genes_all file into lines\n",
        "    splited = Gene_all.split('\\n')\n",
        "    ## function to get next section\n",
        "    indexes = section_finder(splited,cols)\n",
        "    ## Getting only Genes\n",
        "    Genes = splited[:indexes[0]]\n",
        "    ## Appending Genes to all genes list\n",
        "    All_Genes.append(Genes)\n",
        "  return All_Genes"
      ],
      "metadata": {
        "id": "aKCymbkWoBK2"
      },
      "execution_count": null,
      "outputs": []
    },
    {
      "cell_type": "code",
      "source": [
        "final = gene_find()"
      ],
      "metadata": {
        "id": "Cdj9KZYUqhgt"
      },
      "execution_count": null,
      "outputs": []
    },
    {
      "cell_type": "code",
      "source": [
        "f1 = open(\"list of genes.txt\",'a')\n",
        "ins = 0\n",
        "for txt in final:\n",
        "  f1.write(\">Pathway ID: \"+ human_cancer[ins])\n",
        "  f1.write('\\n')\n",
        "  for genes in txt:\n",
        "    f1.write(genes)\n",
        "    f1.write('\\n')\n",
        "  ins = ins+1"
      ],
      "metadata": {
        "id": "IaXExAQcj7jn"
      },
      "execution_count": null,
      "outputs": []
    },
    {
      "cell_type": "code",
      "source": [
        "len(human_cancer)"
      ],
      "metadata": {
        "colab": {
          "base_uri": "https://localhost:8080/"
        },
        "id": "0_rFn1AYwWbr",
        "outputId": "c7d864d3-f227-408d-ec2c-3713991cd758"
      },
      "execution_count": null,
      "outputs": [
        {
          "output_type": "execute_result",
          "data": {
            "text/plain": [
              "28"
            ]
          },
          "metadata": {},
          "execution_count": 96
        }
      ]
    },
    {
      "cell_type": "code",
      "source": [
        "fil = open(\"/content/list of genes (1).txt\",'r')\n",
        "genes_file = fil.read()"
      ],
      "metadata": {
        "id": "UN_uleu6wW6U"
      },
      "execution_count": null,
      "outputs": []
    },
    {
      "cell_type": "code",
      "source": [
        "gene_list = genes_file.split(\">\")\n",
        "all_gene_identifiers = []\n",
        "all_gene_description = []\n",
        "gene_identifiers = []\n",
        "gene_description = []\n",
        "rests = []\n",
        "j =0\n",
        "gene_list.pop(0)\n",
        "for genez in gene_list:\n",
        "  gene_lines = genez.split(\"\\n\")\n",
        "  gene_lines.pop(-1)\n",
        "  for i in range(len(gene_lines)-1):\n",
        "    id_h = \"\"\n",
        "    des_h = \"\"\n",
        "    if j == 1246 or j ==1819:\n",
        "      rests.append(gene_lines[i+1])\n",
        "    else:\n",
        "      id_h,des_h = gene_lines[i+1].split(\";\")\n",
        "      gene_identifiers.append(id_h)\n",
        "      gene_description.append(des_h)\n",
        "    j = j +1\n",
        "  all_gene_identifiers.append(gene_identifiers)\n",
        "  all_gene_description.append(gene_description)"
      ],
      "metadata": {
        "id": "IWyKsi-JFw7f"
      },
      "execution_count": null,
      "outputs": []
    },
    {
      "cell_type": "code",
      "source": [
        "lz = gene_list[5].split('\\n')[:-1]\n",
        "i = []\n",
        "d = []\n",
        "a_i = []\n",
        "a_d = []\n",
        "for g in lz:\n",
        "  if \";\" in g:\n",
        "    i,d= g.split(\";\")\n"
      ],
      "metadata": {
        "colab": {
          "base_uri": "https://localhost:8080/"
        },
        "id": "Bsd17CGIQlFA",
        "outputId": "a2d0f2a8-5fc8-4d18-b88c-dcc8ad4bed87"
      },
      "execution_count": null,
      "outputs": [
        {
          "output_type": "execute_result",
          "data": {
            "text/plain": [
              "['Pathway ID: hsa05207\\tChemical carcinogenesis - receptor activation - Homo sapiens (human)',\n",
              " '        1139  CHRNA7; cholinergic receptor nicotinic alpha 7 subunit [KO:K04809]',\n",
              " '            408  ARRB1; arrestin beta 1 [KO:K04439]',\n",
              " '            409  ARRB2; arrestin beta 2 [KO:K04439]',\n",
              " '            6714  SRC; SRC proto-oncogene, non-receptor tyrosine kinase [KO:K05704] [EC:2.7.10.2]',\n",
              " '            5894  RAF1; Raf-1 proto-oncogene, serine/threonine kinase [KO:K04366] [EC:2.7.11.1]',\n",
              " '            5925  RB1; RB transcriptional corepressor 1 [KO:K06618]',\n",
              " '            1869  E2F1; E2F transcription factor 1 [KO:K17454]',\n",
              " '            332  BIRC5; baculoviral IAP repeat containing 5 [KO:K08731]',\n",
              " '            331  XIAP; X-linked inhibitor of apoptosis [KO:K04725] [EC:2.3.2.27]',\n",
              " '            990  CDC6; cell division cycle 6 [KO:K02213]',\n",
              " '            993  CDC25A; cell division cycle 25A [KO:K06645] [EC:3.1.3.48]',\n",
              " '            3717  JAK2; Janus kinase 2 [KO:K04447] [EC:2.7.10.2]',\n",
              " '            6774  STAT3; signal transducer and activator of transcription 3 [KO:K04692]',\n",
              " '            9641  IKBKE; inhibitor of nuclear factor kappa B kinase subunit epsilon [KO:K07211] [EC:2.7.11.10]',\n",
              " '            595  CCND1; cyclin D1 [KO:K04503]',\n",
              " '            1137  CHRNA4; cholinergic receptor nicotinic alpha 4 subunit [KO:K04806]',\n",
              " '            1141  CHRNB2; cholinergic receptor nicotinic beta 2 subunit [KO:K04813]',\n",
              " '            1136  CHRNA3; cholinergic receptor nicotinic alpha 3 subunit [KO:K04805]',\n",
              " '            1143  CHRNB4; cholinergic receptor nicotinic beta 4 subunit [KO:K04815]',\n",
              " '            775  CACNA1C; calcium voltage-gated channel subunit alpha1 C [KO:K04850]',\n",
              " '            776  CACNA1D; calcium voltage-gated channel subunit alpha1 D [KO:K04851]',\n",
              " '            778  CACNA1F; calcium voltage-gated channel subunit alpha1 F [KO:K04853]',\n",
              " '            779  CACNA1S; calcium voltage-gated channel subunit alpha1 S [KO:K04857]',\n",
              " '            774  CACNA1B; calcium voltage-gated channel subunit alpha1 B [KO:K04849]',\n",
              " '            773  CACNA1A; calcium voltage-gated channel subunit alpha1 A [KO:K04344]',\n",
              " '            5290  PIK3CA; phosphatidylinositol-4,5-bisphosphate 3-kinase catalytic subunit alpha [KO:K00922] [EC:2.7.1.153]',\n",
              " '            5293  PIK3CD; phosphatidylinositol-4,5-bisphosphate 3-kinase catalytic subunit delta [KO:K00922] [EC:2.7.1.153]',\n",
              " '            5291  PIK3CB; phosphatidylinositol-4,5-bisphosphate 3-kinase catalytic subunit beta [KO:K00922] [EC:2.7.1.153]',\n",
              " '            5295  PIK3R1; phosphoinositide-3-kinase regulatory subunit 1 [KO:K02649]',\n",
              " '            5296  PIK3R2; phosphoinositide-3-kinase regulatory subunit 2 [KO:K02649]',\n",
              " '            8503  PIK3R3; phosphoinositide-3-kinase regulatory subunit 3 [KO:K02649]',\n",
              " '            207  AKT1; AKT serine/threonine kinase 1 [KO:K04456] [EC:2.7.11.1]',\n",
              " '            208  AKT2; AKT serine/threonine kinase 2 [KO:K04456] [EC:2.7.11.1]',\n",
              " '            10000  AKT3; AKT serine/threonine kinase 3 [KO:K04456] [EC:2.7.11.1]',\n",
              " '            2475  MTOR; mechanistic target of rapamycin kinase [KO:K07203] [EC:2.7.11.1]',\n",
              " '            4790  NFKB1; nuclear factor kappa B subunit 1 [KO:K02580]',\n",
              " '            5970  RELA; RELA proto-oncogene, NF-kB subunit [KO:K04735]',\n",
              " '            3265  HRAS; HRas proto-oncogene, GTPase [KO:K02833]',\n",
              " '            3845  KRAS; KRAS proto-oncogene, GTPase [KO:K07827]',\n",
              " '            4893  NRAS; NRAS proto-oncogene, GTPase [KO:K07828]',\n",
              " '            5604  MAP2K1; mitogen-activated protein kinase kinase 1 [KO:K04368] [EC:2.7.12.2]',\n",
              " '            5605  MAP2K2; mitogen-activated protein kinase kinase 2 [KO:K04369] [EC:2.7.12.2]',\n",
              " '            5594  MAPK1; mitogen-activated protein kinase 1 [KO:K04371] [EC:2.7.11.24]',\n",
              " '            5595  MAPK3; mitogen-activated protein kinase 3 [KO:K04371] [EC:2.7.11.24]',\n",
              " '            2353  FOS; Fos proto-oncogene, AP-1 transcription factor subunit [KO:K04379]',\n",
              " '            3725  JUN; Jun proto-oncogene, AP-1 transcription factor subunit [KO:K04448]',\n",
              " '            4609  MYC; MYC proto-oncogene, bHLH transcription factor [KO:K04377]',\n",
              " '            596  BCL2; BCL2 apoptosis regulator [KO:K02161]',\n",
              " '            5578  PRKCA; protein kinase C alpha [KO:K02677] [EC:2.7.11.13]',\n",
              " '            5579  PRKCB; protein kinase C beta [KO:K19662] [EC:2.7.11.13]',\n",
              " '            5582  PRKCG; protein kinase C gamma [KO:K19663] [EC:2.7.11.13]',\n",
              " '            7422  VEGFA; vascular endothelial growth factor A [KO:K05448]',\n",
              " '            2247  FGF2; fibroblast growth factor 2 [KO:K18497]',\n",
              " '            153  ADRB1; adrenoceptor beta 1 [KO:K04141]',\n",
              " '            154  ADRB2; adrenoceptor beta 2 [KO:K04142]',\n",
              " '            155  ADRB3; adrenoceptor beta 3 [KO:K04143]',\n",
              " '            2778  GNAS; GNAS complex locus [KO:K04632]',\n",
              " '            107  ADCY1; adenylate cyclase 1 [KO:K08041] [EC:4.6.1.1]',\n",
              " '            108  ADCY2; adenylate cyclase 2 [KO:K08042] [EC:4.6.1.1]',\n",
              " '            109  ADCY3; adenylate cyclase 3 [KO:K08043] [EC:4.6.1.1]',\n",
              " '            196883  ADCY4; adenylate cyclase 4 [KO:K08044] [EC:4.6.1.1]',\n",
              " '            111  ADCY5; adenylate cyclase 5 [KO:K08045] [EC:4.6.1.1]',\n",
              " '            112  ADCY6; adenylate cyclase 6 [KO:K08046] [EC:4.6.1.1]',\n",
              " '            113  ADCY7; adenylate cyclase 7 [KO:K08047] [EC:4.6.1.1]',\n",
              " '            114  ADCY8; adenylate cyclase 8 [KO:K08048] [EC:4.6.1.1]',\n",
              " '            115  ADCY9; adenylate cyclase 9 [KO:K08049] [EC:4.6.1.1]',\n",
              " '            5566  PRKACA; protein kinase cAMP-activated catalytic subunit alpha [KO:K04345] [EC:2.7.11.11]',\n",
              " '            5567  PRKACB; protein kinase cAMP-activated catalytic subunit beta [KO:K04345] [EC:2.7.11.11]',\n",
              " '            5568  PRKACG; protein kinase cAMP-activated catalytic subunit gamma [KO:K04345] [EC:2.7.11.11]',\n",
              " '            1385  CREB1; cAMP responsive element binding protein 1 [KO:K05870]',\n",
              " '            1386  ATF2; activating transcription factor 2 [KO:K04450]',\n",
              " '            468  ATF4; activating transcription factor 4 [KO:K04374]',\n",
              " '            10488  CREB3; cAMP responsive element binding protein 3 [KO:K09048]',\n",
              " '            90993  CREB3L1; cAMP responsive element binding protein 3 like 1 [KO:K09048]',\n",
              " '            64764  CREB3L2; cAMP responsive element binding protein 3 like 2 [KO:K09048]',\n",
              " '            84699  CREB3L3; cAMP responsive element binding protein 3 like 3 [KO:K09048]',\n",
              " '            148327  CREB3L4; cAMP responsive element binding protein 3 like 4 [KO:K09048]',\n",
              " '            9586  CREB5; cAMP responsive element binding protein 5 [KO:K09047]',\n",
              " '            1388  ATF6B; activating transcription factor 6 beta [KO:K09049]',\n",
              " '            2770  GNAI1; G protein subunit alpha i1 [KO:K04630]',\n",
              " '            2773  GNAI3; G protein subunit alpha i3 [KO:K04630]',\n",
              " '            2771  GNAI2; G protein subunit alpha i2 [KO:K04630]',\n",
              " '            572  BAD; BCL2 associated agonist of cell death [KO:K02158]',\n",
              " '            55584  CHRNA9; cholinergic receptor nicotinic alpha 9 subunit [KO:K04810]',\n",
              " '            6197  RPS6KA3; ribosomal protein S6 kinase A3 [KO:K04373] [EC:2.7.11.1]',\n",
              " '            6195  RPS6KA1; ribosomal protein S6 kinase A1 [KO:K04373] [EC:2.7.11.1]',\n",
              " '            6196  RPS6KA2; ribosomal protein S6 kinase A2 [KO:K04373] [EC:2.7.11.1]',\n",
              " '            27330  RPS6KA6; ribosomal protein S6 kinase A6 [KO:K04373] [EC:2.7.11.1]',\n",
              " '            2099  ESR1; estrogen receptor 1 [KO:K08550]',\n",
              " '            2100  ESR2; estrogen receptor 2 [KO:K08551]',\n",
              " '            7421  VDR; vitamin D receptor [KO:K08539]',\n",
              " '            896  CCND3; cyclin D3 [KO:K10152]',\n",
              " '            1956  EGFR; epidermal growth factor receptor [KO:K04361] [EC:2.7.10.1]',\n",
              " '            2885  GRB2; growth factor receptor bound protein 2 [KO:K04364]',\n",
              " '            6654  SOS1; SOS Ras/Rac guanine nucleotide exchange factor 1 [KO:K03099]',\n",
              " '            6655  SOS2; SOS Ras/Rho guanine nucleotide exchange factor 2 [KO:K03099]',\n",
              " '            1978  EIF4EBP1; eukaryotic translation initiation factor 4E binding protein 1 [KO:K07205]',\n",
              " '            6198  RPS6KB1; ribosomal protein S6 kinase B1 [KO:K04688] [EC:2.7.11.1]',\n",
              " '            6199  RPS6KB2; ribosomal protein S6 kinase B2 [KO:K04688] [EC:2.7.11.1]',\n",
              " '            164091  PAQR7; progestin and adipoQ receptor family member 7 [KO:K25039]',\n",
              " '            85315  PAQR8; progestin and adipoQ receptor family member 8 [KO:K25040]',\n",
              " '            54852  PAQR5; progestin and adipoQ receptor family member 5 [KO:K25041]',\n",
              " '            5241  PGR; progesterone receptor [KO:K08556]',\n",
              " '            8600  TNFSF11; TNF superfamily member 11 [KO:K05473]',\n",
              " '            6776  STAT5A; signal transducer and activator of transcription 5A [KO:K11223]',\n",
              " '            6777  STAT5B; signal transducer and activator of transcription 5B [KO:K11224]',\n",
              " '            604  BCL6; BCL6 transcription repressor [KO:K15618]',\n",
              " '            688  KLF5; KLF transcription factor 5 [KO:K09206]',\n",
              " '            9314  KLF4; KLF transcription factor 4 [KO:K17846]',\n",
              " '            7471  WNT1; Wnt family member 1 [KO:K03209]',\n",
              " '            4853  NOTCH2; notch receptor 2 [KO:K20994]',\n",
              " '            182  JAG1; jagged canonical Notch ligand 1 [KO:K06052]',\n",
              " '            406933  MIR141; microRNA 141 [KO:K17018]',\n",
              " '            407021  MIR29A; microRNA 29a [KO:K16995]',\n",
              " '            407024  MIR29B1; microRNA 29b-1 [KO:K16996]',\n",
              " '            407025  MIR29B2; microRNA 29b-2 [KO:K16996]',\n",
              " '            407026  MIR29C; microRNA 29c [KO:K16997]',\n",
              " '            367  AR; androgen receptor [KO:K08557]',\n",
              " '            406881  MIRLET7A1; microRNA let-7a-1 [KO:K16980]',\n",
              " '            406882  MIRLET7A2; microRNA let-7a-2 [KO:K16980]',\n",
              " '            406883  MIRLET7A3; microRNA let-7a-3 [KO:K16980]',\n",
              " '            406884  MIRLET7B; microRNA let-7b [KO:K16980]',\n",
              " '            406886  MIRLET7D; microRNA let-7d [KO:K16980]',\n",
              " '            406887  MIRLET7E; microRNA let-7e [KO:K16980]',\n",
              " '            406888  MIRLET7F1; microRNA let-7f-1 [KO:K16980]',\n",
              " '            406889  MIRLET7F2; microRNA let-7f-2 [KO:K16980]',\n",
              " '            406890  MIRLET7G; microRNA let-7g [KO:K16980]',\n",
              " '            406891  MIRLET7I; microRNA let-7i [KO:K16980]',\n",
              " '            1950  EGF; epidermal growth factor [KO:K04357]',\n",
              " '            2248  FGF3; fibroblast growth factor 3 [KO:K04358]',\n",
              " '            2249  FGF4; fibroblast growth factor 4 [KO:K04358]',\n",
              " '            8822  FGF17; fibroblast growth factor 17 [KO:K04358]',\n",
              " '            2251  FGF6; fibroblast growth factor 6 [KO:K04358]',\n",
              " '            2252  FGF7; fibroblast growth factor 7 [KO:K04358]',\n",
              " '            2253  FGF8; fibroblast growth factor 8 [KO:K04358]',\n",
              " '            2254  FGF9; fibroblast growth factor 9 [KO:K04358]',\n",
              " '            2255  FGF10; fibroblast growth factor 10 [KO:K04358]',\n",
              " '            8823  FGF16; fibroblast growth factor 16 [KO:K04358]',\n",
              " '            2250  FGF5; fibroblast growth factor 5 [KO:K04358]',\n",
              " '            8817  FGF18; fibroblast growth factor 18 [KO:K04358]',\n",
              " '            26281  FGF20; fibroblast growth factor 20 [KO:K04358]',\n",
              " '            27006  FGF22; fibroblast growth factor 22 [KO:K04358]',\n",
              " '            10683  DLL3; delta like canonical Notch ligand 3 [KO:K06051]',\n",
              " '            28514  DLL1; delta like canonical Notch ligand 1 [KO:K06051]',\n",
              " '            54567  DLL4; delta like canonical Notch ligand 4 [KO:K06051]',\n",
              " '            10728  PTGES3; prostaglandin E synthase 3 [KO:K15730] [EC:5.3.99.3]',\n",
              " '            23746  AIPL1; aryl hydrocarbon receptor interacting protein like 1 [KO:K17767]',\n",
              " '            9049  AIP; aryl hydrocarbon receptor interacting protein [KO:K17767]',\n",
              " '            196  AHR; aryl hydrocarbon receptor [KO:K09093]',\n",
              " '            3320  HSP90AA1; heat shock protein 90 alpha family class A member 1 [KO:K04079]',\n",
              " '            3326  HSP90AB1; heat shock protein 90 alpha family class B member 1 [KO:K04079]',\n",
              " '            7184  HSP90B1; heat shock protein 90 beta family member 1 [KO:K09487]',\n",
              " '            3836  KPNA1; karyopherin subunit alpha 1 [KO:K23940]',\n",
              " '            3838  KPNA2; karyopherin subunit alpha 2 [KO:K15043]',\n",
              " '            402569  KPNA7; karyopherin subunit alpha 7 [KO:K15043]',\n",
              " '            3839  KPNA3; karyopherin subunit alpha 3 [KO:K23583]',\n",
              " '            3840  KPNA4; karyopherin subunit alpha 4 [KO:K23583]',\n",
              " '            23633  KPNA6; karyopherin subunit alpha 6 [KO:K15042]',\n",
              " '            3841  KPNA5; karyopherin subunit alpha 5 [KO:K15042]',\n",
              " '            3837  KPNB1; karyopherin subunit beta 1 [KO:K14293]',\n",
              " '            405  ARNT; aryl hydrocarbon receptor nuclear translocator [KO:K09097]',\n",
              " '            1543  CYP1A1; cytochrome P450 family 1 subfamily A member 1 [KO:K07408] [EC:1.14.14.1]',\n",
              " '            1545  CYP1B1; cytochrome P450 family 1 subfamily B member 1 [KO:K07410] [EC:1.14.14.1]',\n",
              " '            2052  EPHX1; epoxide hydrolase 1 [KO:K01253] [EC:3.3.2.9]',\n",
              " '            2053  EPHX2; epoxide hydrolase 2 [KO:K08726] [EC:3.3.2.10 3.1.3.76]',\n",
              " '            79852  EPHX3; epoxide hydrolase 3 [KO:K22368] [EC:3.3.2.10]',\n",
              " '            253152  EPHX4; epoxide hydrolase 4 [KO:K22369] [EC:3.3.-.-]',\n",
              " '            221357  GSTA5; glutathione S-transferase alpha 5 [KO:K00799] [EC:2.5.1.18]',\n",
              " '            2939  GSTA2; glutathione S-transferase alpha 2 [KO:K00799] [EC:2.5.1.18]',\n",
              " '            2941  GSTA4; glutathione S-transferase alpha 4 [KO:K00799] [EC:2.5.1.18]',\n",
              " '            119391  GSTO2; glutathione S-transferase omega 2 [KO:K00799] [EC:2.5.1.18]',\n",
              " '            2948  GSTM4; glutathione S-transferase mu 4 [KO:K00799] [EC:2.5.1.18]',\n",
              " '            2953  GSTT2; glutathione S-transferase theta 2 (gene/pseudogene) [KO:K00799] [EC:2.5.1.18]',\n",
              " '            2952  GSTT1; glutathione S-transferase theta 1 [KO:K00799] [EC:2.5.1.18]',\n",
              " '            2947  GSTM3; glutathione S-transferase mu 3 [KO:K00799] [EC:2.5.1.18]',\n",
              " '            4257  MGST1; microsomal glutathione S-transferase 1 [KO:K00799] [EC:2.5.1.18]',\n",
              " '            4259  MGST3; microsomal glutathione S-transferase 3 [KO:K00799] [EC:2.5.1.18]',\n",
              " '            2944  GSTM1; glutathione S-transferase mu 1 [KO:K00799] [EC:2.5.1.18]',\n",
              " '            2949  GSTM5; glutathione S-transferase mu 5 [KO:K00799] [EC:2.5.1.18]',\n",
              " '            4258  MGST2; microsomal glutathione S-transferase 2 [KO:K00799] [EC:2.5.1.18]',\n",
              " '            2938  GSTA1; glutathione S-transferase alpha 1 [KO:K00799] [EC:2.5.1.18]',\n",
              " '            2946  GSTM2; glutathione S-transferase mu 2 [KO:K00799] [EC:2.5.1.18]',\n",
              " '            2940  GSTA3; glutathione S-transferase alpha 3 [KO:K00799] [EC:2.5.1.18]',\n",
              " '            9446  GSTO1; glutathione S-transferase omega 1 [KO:K00799] [EC:2.5.1.18]',\n",
              " '            653689  GSTT2B; glutathione S-transferase theta 2B [KO:K00799] [EC:2.5.1.18]',\n",
              " '            10941  UGT2A1; UDP glucuronosyltransferase family 2 member A1 complex locus [KO:K00699] [EC:2.4.1.17]',\n",
              " '            79799  UGT2A3; UDP glucuronosyltransferase family 2 member A3 [KO:K00699] [EC:2.4.1.17]',\n",
              " '            7367  UGT2B17; UDP glucuronosyltransferase family 2 member B17 [KO:K00699] [EC:2.4.1.17]',\n",
              " '            10720  UGT2B11; UDP glucuronosyltransferase family 2 member B11 [KO:K00699] [EC:2.4.1.17]',\n",
              " '            54490  UGT2B28; UDP glucuronosyltransferase family 2 member B28 [KO:K00699] [EC:2.4.1.17]',\n",
              " '            54578  UGT1A6; UDP glucuronosyltransferase family 1 member A6 [KO:K00699] [EC:2.4.1.17]',\n",
              " '            54657  UGT1A4; UDP glucuronosyltransferase family 1 member A4 [KO:K00699] [EC:2.4.1.17]',\n",
              " '            54658  UGT1A1; UDP glucuronosyltransferase family 1 member A1 [KO:K00699] [EC:2.4.1.17]',\n",
              " '            54659  UGT1A3; UDP glucuronosyltransferase family 1 member A3 [KO:K00699] [EC:2.4.1.17]',\n",
              " '            7365  UGT2B10; UDP glucuronosyltransferase family 2 member B10 [KO:K00699] [EC:2.4.1.17]',\n",
              " '            54600  UGT1A9; UDP glucuronosyltransferase family 1 member A9 [KO:K00699] [EC:2.4.1.17]',\n",
              " '            7364  UGT2B7; UDP glucuronosyltransferase family 2 member B7 [KO:K00699] [EC:2.4.1.17]',\n",
              " '            54575  UGT1A10; UDP glucuronosyltransferase family 1 member A10 [KO:K00699] [EC:2.4.1.17]',\n",
              " '            54576  UGT1A8; UDP glucuronosyltransferase family 1 member A8 [KO:K00699] [EC:2.4.1.17]',\n",
              " '            54579  UGT1A5; UDP glucuronosyltransferase family 1 member A5 [KO:K00699] [EC:2.4.1.17]',\n",
              " '            7366  UGT2B15; UDP glucuronosyltransferase family 2 member B15 [KO:K00699] [EC:2.4.1.17]',\n",
              " '            54577  UGT1A7; UDP glucuronosyltransferase family 1 member A7 [KO:K00699] [EC:2.4.1.17]',\n",
              " '            7363  UGT2B4; UDP glucuronosyltransferase family 2 member B4 [KO:K00699] [EC:2.4.1.17]',\n",
              " '            574537  UGT2A2; UDP glucuronosyltransferase family 2 member A2 [KO:K00699] [EC:2.4.1.17]',\n",
              " '            1555  CYP2B6; cytochrome P450 family 2 subfamily B member 6 [KO:K17709] [EC:1.14.14.-]',\n",
              " '            9970  NR1I3; nuclear receptor subfamily 1 group I member 3 [KO:K08541]',\n",
              " '            6256  RXRA; retinoid X receptor alpha [KO:K08524]',\n",
              " '            6257  RXRB; retinoid X receptor beta [KO:K08525]',\n",
              " '            6258  RXRG; retinoid X receptor gamma [KO:K08526]',\n",
              " '            1576  CYP3A4; cytochrome P450 family 3 subfamily A member 4 [KO:K17689] [EC:1.14.13.32 1.14.14.55 1.14.14.56 1.14.14.57 1.14.14.73 1.14.14.-]',\n",
              " '            1544  CYP1A2; cytochrome P450 family 1 subfamily A member 2 [KO:K07409] [EC:1.14.14.1]',\n",
              " '            5465  PPARA; peroxisome proliferator activated receptor alpha [KO:K07294]']"
            ]
          },
          "metadata": {},
          "execution_count": 70
        }
      ]
    },
    {
      "cell_type": "code",
      "source": [
        "text = all_gene_identifiers[0][0]"
      ],
      "metadata": {
        "id": "__mWUGPQSEoL"
      },
      "execution_count": null,
      "outputs": []
    },
    {
      "cell_type": "code",
      "source": [
        "import re"
      ],
      "metadata": {
        "id": "9Z8NI5WPQV1r"
      },
      "execution_count": null,
      "outputs": []
    },
    {
      "cell_type": "code",
      "source": [
        "split_parts = re.split(r'([A-Z])', text)"
      ],
      "metadata": {
        "id": "aTkspcoXQYGz"
      },
      "execution_count": null,
      "outputs": []
    },
    {
      "cell_type": "code",
      "source": [
        "split_parts.pop(0)\n",
        "split_parts = [part for part in split_parts if part]\n",
        "result = \"\".join(split_parts)\n",
        "print(split_parts)\n",
        "print(result)\n"
      ],
      "metadata": {
        "colab": {
          "base_uri": "https://localhost:8080/"
        },
        "id": "Q-akhfACQfPX",
        "outputId": "267760f2-96bf-4ce8-fbac-260d7998ba51"
      },
      "execution_count": null,
      "outputs": [
        {
          "output_type": "stream",
          "name": "stdout",
          "text": [
            "['D', 'C', 'C']\n",
            "DCC\n"
          ]
        }
      ]
    },
    {
      "cell_type": "code",
      "source": [
        "def spliterr(lst):\n",
        "  temp = []\n",
        "  identifiers = []\n",
        "  for path in lst:\n",
        "    for genz in path:\n",
        "      split_parts = re.split(r'([A-Z])', genz)\n",
        "      split_parts.pop(0)\n",
        "      split_parts = [part for part in split_parts if part]\n",
        "      result = \"\".join(split_parts)\n",
        "      temp.append(result)\n",
        "    identifiers.append(temp)\n",
        "  return identifiers"
      ],
      "metadata": {
        "id": "8iAdncwcQ8fV"
      },
      "execution_count": null,
      "outputs": []
    },
    {
      "cell_type": "code",
      "source": [
        "original_ids = spliterr(all_gene_identifiers)"
      ],
      "metadata": {
        "id": "oS1iRC6LRrLd"
      },
      "execution_count": null,
      "outputs": []
    },
    {
      "cell_type": "code",
      "source": [
        "count = 0\n",
        "for i in original_ids:\n",
        "  for j in i:\n",
        "    count = count +1"
      ],
      "metadata": {
        "id": "k0hMSj5ZSDXq"
      },
      "execution_count": null,
      "outputs": []
    },
    {
      "cell_type": "code",
      "source": [
        "print(count)"
      ],
      "metadata": {
        "colab": {
          "base_uri": "https://localhost:8080/"
        },
        "id": "-vF5IOTdTc0T",
        "outputId": "75e6cf09-1cba-4686-f15a-8576f05c94b1"
      },
      "execution_count": null,
      "outputs": [
        {
          "output_type": "stream",
          "name": "stdout",
          "text": [
            "2831024\n"
          ]
        }
      ]
    },
    {
      "cell_type": "code",
      "source": [
        "len(original_ids)"
      ],
      "metadata": {
        "colab": {
          "base_uri": "https://localhost:8080/"
        },
        "id": "lvgsEhvPOOrN",
        "outputId": "8d03afbf-1270-42e8-a0b3-f4198975ae39"
      },
      "execution_count": null,
      "outputs": [
        {
          "output_type": "execute_result",
          "data": {
            "text/plain": [
              "28"
            ]
          },
          "metadata": {},
          "execution_count": 25
        }
      ]
    },
    {
      "cell_type": "code",
      "source": [
        "concatenated_list = []\n",
        "for sublist in original_ids:\n",
        "    concatenated_list.extend(sublist)"
      ],
      "metadata": {
        "id": "z0-1Z4f8UsHt"
      },
      "execution_count": null,
      "outputs": []
    },
    {
      "cell_type": "code",
      "source": [
        "real = set(concatenated_list)\n",
        "len(real)"
      ],
      "metadata": {
        "colab": {
          "base_uri": "https://localhost:8080/"
        },
        "id": "LM_fGYlbT-i1",
        "outputId": "59bac84a-d3e5-4aaa-e590-98f8eaf92605"
      },
      "execution_count": null,
      "outputs": [
        {
          "output_type": "execute_result",
          "data": {
            "text/plain": [
              "1508"
            ]
          },
          "metadata": {},
          "execution_count": 31
        }
      ]
    },
    {
      "cell_type": "code",
      "source": [
        "f1 = open(\"real_human_cancer_gene_ids.txt\",'a')\n",
        "for i in real:\n",
        "  f1.write(i)\n",
        "  f1.write(\",\")\n",
        "f1.close()"
      ],
      "metadata": {
        "id": "UJcpn1lDOTU9"
      },
      "execution_count": null,
      "outputs": []
    }
  ]
}